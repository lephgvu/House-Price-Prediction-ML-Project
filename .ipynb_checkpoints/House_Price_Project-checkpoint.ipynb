{
 "cells": [
  {
   "cell_type": "code",
   "execution_count": 6,
   "id": "810b4b74-e91e-4ab4-bbf8-b3befd22a786",
   "metadata": {},
   "outputs": [],
   "source": [
    "import pandas as pd\n",
    "import numpy as np\n",
    "import matplotlib.pyplot as plt\n",
    "import seaborn as sns"
   ]
  },
  {
   "cell_type": "code",
   "execution_count": 8,
   "id": "7e7cc350-4a85-4ad7-bb05-2e9744a88167",
   "metadata": {},
   "outputs": [
    {
     "name": "stderr",
     "output_type": "stream",
     "text": [
      "<>:1: SyntaxWarning: invalid escape sequence '\\p'\n",
      "<>:1: SyntaxWarning: invalid escape sequence '\\p'\n",
      "C:\\Users\\Admin\\AppData\\Local\\Temp\\ipykernel_18560\\839328859.py:1: SyntaxWarning: invalid escape sequence '\\p'\n",
      "  data = pd.read_csv(\"D:\\python_project\\House_Price_Prediction_py\\housing.csv\")\n"
     ]
    }
   ],
   "source": [
    "data = pd.read_csv(\"D:\\python_project\\House_Price_Prediction_py\\housing.csv\")"
   ]
  },
  {
   "cell_type": "code",
   "execution_count": null,
   "id": "19d719ea-b9b0-4978-b327-9439a56da925",
   "metadata": {},
   "outputs": [],
   "source": [
    "data"
   ]
  },
  {
   "cell_type": "code",
   "execution_count": null,
   "id": "552a5fda-ca54-4f80-85e3-08dc4e5beb57",
   "metadata": {},
   "outputs": [],
   "source": [
    "data.info()"
   ]
  },
  {
   "cell_type": "code",
   "execution_count": null,
   "id": "50a7d873-310f-4975-9dca-51687791079b",
   "metadata": {},
   "outputs": [],
   "source": [
    "data.dropna(inplace = True)"
   ]
  },
  {
   "cell_type": "code",
   "execution_count": null,
   "id": "b2726395-c546-4c7e-9276-12430ed677b2",
   "metadata": {},
   "outputs": [],
   "source": [
    "data.info()"
   ]
  },
  {
   "cell_type": "code",
   "execution_count": null,
   "id": "ee2b63cb-3bb5-4124-aedf-97aa8cc67272",
   "metadata": {},
   "outputs": [],
   "source": [
    "from sklearn.model_selection import train_test_split\n",
    "\n",
    "X = data.drop(['median_house_value'], axis = 1)\n",
    "y = data['median_house_value']"
   ]
  },
  {
   "cell_type": "code",
   "execution_count": null,
   "id": "a0e5c4f9-ebc4-4ebb-887e-e89cc0e32acf",
   "metadata": {},
   "outputs": [],
   "source": [
    "X_train, X_test, y_train, y_test = train_test_split(X, y, test_size = 0.2)"
   ]
  },
  {
   "cell_type": "code",
   "execution_count": null,
   "id": "fc832e57-a613-4c6e-8d8a-7c72069cf44c",
   "metadata": {},
   "outputs": [],
   "source": [
    "train_data = X_train.join(y_train)"
   ]
  },
  {
   "cell_type": "code",
   "execution_count": null,
   "id": "a4be34ae-570f-41a9-b0aa-6f218fab665c",
   "metadata": {},
   "outputs": [],
   "source": [
    "train_data"
   ]
  },
  {
   "cell_type": "code",
   "execution_count": null,
   "id": "69b83a67-44e9-43da-bd5d-72fb2e26eba6",
   "metadata": {},
   "outputs": [],
   "source": [
    "train_data.hist(figsize = (15, 8))"
   ]
  },
  {
   "cell_type": "code",
   "execution_count": null,
   "id": "75d03484-ba6a-45a5-9135-7e9fe0465733",
   "metadata": {},
   "outputs": [],
   "source": [
    "print(train_data.dtypes)"
   ]
  },
  {
   "cell_type": "code",
   "execution_count": null,
   "id": "67a0f31b-ab8f-414b-bb7f-a04dfad19f47",
   "metadata": {},
   "outputs": [],
   "source": [
    "train_data_original = train_data.copy()\n",
    "train_data_num = train_data.select_dtypes(include=['number'])"
   ]
  },
  {
   "cell_type": "code",
   "execution_count": null,
   "id": "0cf68e77-0df9-4607-a344-56788087f75a",
   "metadata": {},
   "outputs": [],
   "source": [
    "print(train_data_num.dtypes)"
   ]
  },
  {
   "cell_type": "code",
   "execution_count": null,
   "id": "0c235db0-2175-4010-9cd9-7cafdabbd68a",
   "metadata": {},
   "outputs": [],
   "source": [
    "train_data_num.corr()"
   ]
  },
  {
   "cell_type": "code",
   "execution_count": null,
   "id": "82f84df6-80bc-4a62-9d48-0b3c4ff70b55",
   "metadata": {},
   "outputs": [],
   "source": [
    "plt.figure(figsize = (15, 8))\n",
    "sns.heatmap(train_data_num.corr(), annot = True, cmap = \"YlGnBu\")"
   ]
  },
  {
   "cell_type": "code",
   "execution_count": null,
   "id": "5479f3c3-bca1-4d58-8aca-68d61bcda3ed",
   "metadata": {},
   "outputs": [],
   "source": [
    "train_data_num['total_rooms'] = np.log(train_data_num['total_rooms'] + 1)\n",
    "train_data_num['total_bedrooms'] = np.log(train_data_num['total_bedrooms'] + 1)\n",
    "train_data_num['population'] = np.log(train_data_num['population'] + 1)\n",
    "train_data_num['households'] = np.log(train_data_num['households'] + 1)"
   ]
  },
  {
   "cell_type": "code",
   "execution_count": null,
   "id": "dc201ccf-2391-4a60-8d3d-5d8ba44d151b",
   "metadata": {},
   "outputs": [],
   "source": [
    "train_data_num.hist(figsize=(15, 8))"
   ]
  },
  {
   "cell_type": "code",
   "execution_count": null,
   "id": "93bdc791-61bb-4b28-9fc8-734d3bb033d6",
   "metadata": {},
   "outputs": [],
   "source": [
    "train_data = train_data_original.copy()"
   ]
  },
  {
   "cell_type": "code",
   "execution_count": null,
   "id": "e7b3745e-aeac-4bed-970c-21380f0bf2ab",
   "metadata": {},
   "outputs": [],
   "source": [
    "print(train_data.dtypes)"
   ]
  },
  {
   "cell_type": "code",
   "execution_count": null,
   "id": "a56579bd-0cdb-4803-988a-2d470067d0e6",
   "metadata": {},
   "outputs": [],
   "source": [
    "train_data.ocean_proximity.value_counts()"
   ]
  },
  {
   "cell_type": "code",
   "execution_count": null,
   "id": "0d062dcb-75b7-47b2-bee6-9a073a5d281b",
   "metadata": {},
   "outputs": [],
   "source": [
    "train_data = train_data.join(pd.get_dummies(train_data.ocean_proximity)).drop(['ocean_proximity'], axis = 1)"
   ]
  },
  {
   "cell_type": "code",
   "execution_count": null,
   "id": "4b4697ca-1937-4f61-9f56-473c5b6763c5",
   "metadata": {},
   "outputs": [],
   "source": [
    "plt.figure(figsize = (15, 8))\n",
    "sns.heatmap(train_data.corr(), annot = True, cmap = \"YlGnBu\")"
   ]
  },
  {
   "cell_type": "code",
   "execution_count": null,
   "id": "42f83ff5-a10a-4d7c-83d0-e8cccef98af1",
   "metadata": {},
   "outputs": [],
   "source": [
    "plt.figure(figsize = (15, 8))\n",
    "sns.scatterplot(x = \"latitude\", y = \"longitude\", data = train_data, hue = \"median_house_value\", palette = \"coolwarm\")"
   ]
  },
  {
   "cell_type": "code",
   "execution_count": null,
   "id": "9368d815-1297-4d18-b036-7ca078b82099",
   "metadata": {},
   "outputs": [],
   "source": [
    "train_data['bedroom_ratio'] = train_data['total_bedrooms'] / train_data['total_rooms']\n",
    "train_data['household_rooms'] = train_data['total_rooms'] / train_data['households']"
   ]
  },
  {
   "cell_type": "code",
   "execution_count": null,
   "id": "e3bbc141-d447-4eda-b0f2-e402bd1805ef",
   "metadata": {},
   "outputs": [],
   "source": [
    "plt.figure(figsize = (15, 8))\n",
    "sns.heatmap(train_data.corr(), annot = True, cmap = \"YlGnBu\")"
   ]
  },
  {
   "cell_type": "code",
   "execution_count": null,
   "id": "a686e95f-12a5-414c-8279-85181036277f",
   "metadata": {},
   "outputs": [],
   "source": [
    "from sklearn.linear_model import LinearRegression\n",
    "from sklearn.preprocessing import StandardScaler\n",
    "\n",
    "scaler = StandardScaler()\n",
    "\n",
    "X_train, y_train = train_data.drop(['median_house_value'], axis = 1), train_data['median_house_value']\n",
    "X_train_s = scaler.fit_transform(X_train)\n",
    "\n",
    "reg = LinearRegression()\n",
    "\n",
    "reg.fit(X_train_s, y_train)"
   ]
  },
  {
   "cell_type": "code",
   "execution_count": null,
   "id": "9ba0df75-deb3-4a55-978a-3f5017f4f9c6",
   "metadata": {},
   "outputs": [],
   "source": [
    "test_data = X_test.join(y_test)\n",
    "\n",
    "test_data['total_rooms'] = np.log(test_data['total_rooms'] + 1)\n",
    "test_data['total_bedrooms'] = np.log(test_data['total_bedrooms'] + 1)\n",
    "test_data['population'] = np.log(test_data['population'] + 1)\n",
    "test_data['households'] = np.log(test_data['households'] + 1)\n",
    "\n",
    "test_data = test_data.join(pd.get_dummies(test_data.ocean_proximity)).drop(['ocean_proximity'], axis = 1)\n",
    "\n",
    "test_data['bedroom_ratio'] = test_data['total_bedrooms'] / test_data['total_rooms']\n",
    "test_data['household_rooms'] = test_data['total_rooms'] / test_data['households']"
   ]
  },
  {
   "cell_type": "code",
   "execution_count": null,
   "id": "39073e30-64bf-41ce-884d-14e66b3a5105",
   "metadata": {},
   "outputs": [],
   "source": [
    "test_data"
   ]
  },
  {
   "cell_type": "code",
   "execution_count": null,
   "id": "ae254b5e-2ffd-449d-a4c7-34a9ed4d8491",
   "metadata": {},
   "outputs": [],
   "source": [
    "X_test, y_test = test_data.drop(['median_house_value'], axis = 1), test_data['median_house_value']"
   ]
  },
  {
   "cell_type": "code",
   "execution_count": null,
   "id": "6dfa9f0f-4f0c-4819-8ffa-bf76851ef15e",
   "metadata": {},
   "outputs": [],
   "source": [
    "X_test_s = scaler.transform(X_test)"
   ]
  },
  {
   "cell_type": "code",
   "execution_count": null,
   "id": "84083328-e50d-43a4-b078-ce9e18d6ed79",
   "metadata": {},
   "outputs": [],
   "source": [
    "reg.score(X_test_s, y_test)"
   ]
  },
  {
   "cell_type": "code",
   "execution_count": null,
   "id": "6df77c76-fca3-4f2f-9fd4-6b401fedc743",
   "metadata": {},
   "outputs": [],
   "source": []
  }
 ],
 "metadata": {
  "kernelspec": {
   "display_name": "Python 3",
   "language": "python",
   "name": "python3"
  },
  "language_info": {
   "codemirror_mode": {
    "name": "ipython",
    "version": 3
   },
   "file_extension": ".py",
   "mimetype": "text/x-python",
   "name": "python",
   "nbconvert_exporter": "python",
   "pygments_lexer": "ipython3",
   "version": "3.13.1"
  }
 },
 "nbformat": 4,
 "nbformat_minor": 5
}
